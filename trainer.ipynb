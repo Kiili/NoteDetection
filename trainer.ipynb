{
  "nbformat": 4,
  "nbformat_minor": 0,
  "metadata": {
    "colab": {
      "provenance": []
    },
    "kernelspec": {
      "name": "python3",
      "display_name": "Python 3"
    },
    "language_info": {
      "name": "python"
    }
  },
  "cells": [
    {
      "cell_type": "code",
      "execution_count": null,
      "metadata": {
        "id": "8yyvuZskjWgp"
      },
      "outputs": [],
      "source": [
        "import time\n",
        "\n",
        "import torch\n",
        "import torchvision.transforms.v2\n",
        "from pytorchsummary import summary\n",
        "from torch.utils.data import DataLoader, Dataset\n",
        "import torch.nn.functional as F\n",
        "import os\n",
        "import numpy as np\n",
        "from tqdm import tqdm\n",
        "import cv2\n",
        "import utils\n",
        "import os\n",
        "import warnings\n",
        "\n",
        "from torch import nn, Tensor\n",
        "from multiprocessing.pool import ThreadPool\n",
        "from multiprocessing import Pool"
      ]
    },
    {
      "cell_type": "code",
      "source": [
        "class PianoModelBlock(nn.Module):\n",
        "    def __init__(self, in_dim, out_dim, pad=True, ksize=(3, 3), stride=(1, 1), drop=0.0):\n",
        "        super().__init__()\n",
        "        padding = (ksize[0] // 2, ksize[1] // 2) if pad else (0, 0)\n",
        "\n",
        "        self.main = nn.Sequential(\n",
        "            nn.Conv2d(in_dim, out_dim, kernel_size=1, stride=1, bias=False),\n",
        "            nn.BatchNorm2d(out_dim),\n",
        "            nn.LeakyReLU(inplace=True),\n",
        "\n",
        "            nn.Conv2d(out_dim, out_dim, kernel_size=ksize, stride=stride, bias=False, padding=padding),\n",
        "            nn.BatchNorm2d(out_dim),\n",
        "            nn.LeakyReLU(inplace=True),\n",
        "            nn.Dropout(p=drop),\n",
        "\n",
        "            nn.Conv2d(out_dim, out_dim, kernel_size=1, bias=False),\n",
        "            nn.BatchNorm2d(out_dim),\n",
        "        )\n",
        "\n",
        "        self.relu = nn.LeakyReLU(inplace=True)\n",
        "\n",
        "        self.downsample = nn.Sequential(\n",
        "            nn.Conv2d(in_dim, out_dim, kernel_size=ksize, stride=stride, bias=False, padding=padding),\n",
        "            nn.BatchNorm2d(out_dim),\n",
        "        )\n",
        "\n",
        "    def forward(self, x: Tensor):\n",
        "        x = self.relu(self.main(x) + self.downsample(x))\n",
        "        return x\n",
        "\n",
        "\n",
        "class PianoModelSmallSelf(nn.Module):\n",
        "    def __init__(self, input_size=(480, 640), k=5) -> None:\n",
        "        super().__init__()\n",
        "        self.k = k\n",
        "        self.dim_after_preprocessing = 16\n",
        "        downscale_dim_sizes = [32, 32, 64, 128, 128, 256]\n",
        "\n",
        "        self.agg_input_frames = nn.Sequential(\n",
        "            nn.Conv3d(1, 8, kernel_size=(1, 3, 3), padding=(0, 1, 1)),\n",
        "            nn.BatchNorm3d(8),\n",
        "            nn.LeakyReLU(inplace=True),\n",
        "\n",
        "            nn.Conv3d(8, 16, kernel_size=(3, 3, 3), padding=(0, 1, 1)),\n",
        "            nn.BatchNorm3d(16),\n",
        "            nn.LeakyReLU(inplace=True),\n",
        "\n",
        "            nn.Conv3d(16, downscale_dim_sizes[0], kernel_size=(self.k - 2, 3, 3), padding=(0, 1, 1)),\n",
        "            nn.BatchNorm3d(downscale_dim_sizes[0]),\n",
        "            nn.LeakyReLU(inplace=True),\n",
        "        )\n",
        "\n",
        "        self.pred_frame_conv = PianoModelBlock(in_dim=1, out_dim=downscale_dim_sizes[0], ksize=(3, 3), stride=1)\n",
        "\n",
        "        self.blocks = nn.ModuleList([\n",
        "            PianoModelBlock(in_dim=downscale_dim_sizes[0], out_dim=downscale_dim_sizes[1], ksize=(3, 3), stride=2, drop=0.2),\n",
        "            PianoModelBlock(in_dim=downscale_dim_sizes[1], out_dim=downscale_dim_sizes[2], ksize=(3, 3), stride=2, drop=0.2),\n",
        "            PianoModelBlock(in_dim=downscale_dim_sizes[2], out_dim=downscale_dim_sizes[3], ksize=(3, 3), stride=(2, 1), drop=0.2),\n",
        "            PianoModelBlock(in_dim=downscale_dim_sizes[3], out_dim=downscale_dim_sizes[4], ksize=(3, 3), stride=(2, 1), drop=0.2),\n",
        "            PianoModelBlock(in_dim=downscale_dim_sizes[4], out_dim=downscale_dim_sizes[5], ksize=(3, 3), stride=(2, 1), drop=0.0),\n",
        "        ])\n",
        "        # self.avgpool = nn.AdaptiveAvgPool2d((1, 88))\n",
        "        self.fc1 = nn.Linear(input_size[0] // 32, 1)\n",
        "        final_conv_dim = 256\n",
        "        self.final_conv = nn.Conv1d(downscale_dim_sizes[-1], final_conv_dim, kernel_size=3, padding=1)\n",
        "        self.fc = nn.Linear(input_size[1] // 4 * final_conv_dim, 88)\n",
        "\n",
        "    def forward(self, x: Tensor):\n",
        "        pred_frame = self.pred_frame_conv(x[:, :, -1])\n",
        "        x = self.agg_input_frames(x)\n",
        "\n",
        "        x = x[:, :, 0] + pred_frame\n",
        "\n",
        "        for block in self.blocks:\n",
        "            x = block(x)\n",
        "\n",
        "        x = torch.moveaxis(x, 2, 3)\n",
        "        x = self.fc1(x)\n",
        "        x = x[:, :, :, 0]\n",
        "        # x = self.avgpool(x)\n",
        "        x = self.final_conv(x)\n",
        "        x = self.fc(x.flatten(1))\n",
        "\n",
        "        return x\n",
        "\n",
        "\n",
        "# k = 7\n",
        "# inpt = torch.rand(size=[1, 1, k, 480, 640])\n",
        "# model = PianoModelSmallSelf(k=k)\n",
        "# #model = PianoModel()\n",
        "# print(summary(input_size=inpt.squeeze(0).shape, model=model))\n",
        "# print(\"in shape:\", inpt.shape)\n",
        "# print(\"out shape:\", model(inpt).shape)\n"
      ],
      "metadata": {
        "id": "8HV1J4_kjwxY"
      },
      "execution_count": null,
      "outputs": []
    },
    {
      "cell_type": "code",
      "source": [
        "fnames = [os.path.join(\"data\", a) for a in os.listdir(\"data\") if \".png\" in a]\n",
        "fnames += [os.path.join(\"data2\", a) for a in os.listdir(\"data2\") if \".png\" in a]\n",
        "fnames += [os.path.join(\"data3\", a) for a in os.listdir(\"data3\") if \".png\" in a]\n",
        "fnames += [os.path.join(\"data4\", a) for a in os.listdir(\"data4\") if \".png\" in a]\n",
        "fnames += [os.path.join(\"data5\", a) for a in os.listdir(\"data5\") if \".png\" in a]\n",
        "fnames = sorted(fnames)\n",
        "img_fnames = [fname for fname in fnames]\n",
        "annot_fnames = [fname.replace(\".png\", \".npy\") for fname in fnames]\n",
        "\n",
        "for a in annot_fnames:\n",
        "  assert os.path.exists(a), f\"{a}\"\n",
        "\n",
        "pbar = tqdm(total=len(fnames))\n",
        "def f1(img_fname):\n",
        "  pbar.update(1)\n",
        "  return cv2.imread(img_fname, cv2.IMREAD_GRAYSCALE)\n",
        "with ThreadPool(64) as p:\n",
        "  imgs = p.map(f1, img_fnames)\n",
        "pbar.close()\n",
        "\n",
        "pbar = tqdm(total=len(fnames))\n",
        "def f2(label_fname):\n",
        "  pbar.update(1)\n",
        "  return np.load(label_fname)\n",
        "with ThreadPool(64) as p:\n",
        "  labels = p.map(f2, annot_fnames)\n",
        "pbar.close()"
      ],
      "metadata": {
        "colab": {
          "base_uri": "https://localhost:8080/"
        },
        "collapsed": true,
        "id": "E2lf-23ikQmx",
        "outputId": "dd5df992-08e0-448e-a47e-bf6cdc3bd34b"
      },
      "execution_count": null,
      "outputs": [
        {
          "output_type": "stream",
          "name": "stderr",
          "text": [
            "100%|█████████████████████████████████| 55557/55557 [02:35<00:00, 356.90it/s]\n",
            "100%|████████████████████████████████| 55557/55557 [00:40<00:00, 1385.08it/s]\n"
          ]
        }
      ]
    },
    {
      "cell_type": "code",
      "source": [
        "class PianoDataset(Dataset):\n",
        "    def __init__(self, idxs=None, transform=None, k=5):\n",
        "        self.transform = transform\n",
        "        self.idxs = idxs if idxs is not None else np.arange(len(img_fnames))\n",
        "        self.k = k\n",
        "\n",
        "    def __len__(self):\n",
        "        return len(self.idxs)\n",
        "\n",
        "    def __getitem__(self, idx):\n",
        "        idx = self.idxs[idx]\n",
        "        image = torch.cat([torch.tensor(imgs[idx + (i - self.k)] / 255, dtype=torch.float32, device=\"cpu\").unsqueeze(0).unsqueeze(0) for i in range(1, self.k + 1)], dim=1)\n",
        "        label = torch.tensor(labels[idx], dtype=torch.float32, device=\"cpu\")\n",
        "\n",
        "        if self.transform is not None:\n",
        "            image = self.transform(image.permute(1, 0, 2, 3)).permute(1, 0, 2, 3)\n",
        "\n",
        "        return image, label\n"
      ],
      "metadata": {
        "id": "8pSru1-Ljlq0"
      },
      "execution_count": null,
      "outputs": []
    },
    {
      "cell_type": "code",
      "source": [
        "def val(model, val_loader, device, threshhold=0.5):\n",
        "    model.eval()\n",
        "    accs = []\n",
        "    with torch.no_grad():\n",
        "        for i, batch in enumerate(val_loader):\n",
        "            outputs = F.sigmoid(model(batch[0].to(device))) > threshhold\n",
        "            accs.append((outputs == batch[1].to(device)).to(torch.float32).mean().item())\n",
        "    del batch\n",
        "    utils.empty_cache()\n",
        "    return np.array(accs).mean()\n",
        "\n",
        "def loss_fn(pred, truth):\n",
        "    weights = torch.full_like(pred, fill_value=1/10, device=device)\n",
        "    weights[truth > 0] = 9/10\n",
        "    return F.binary_cross_entropy_with_logits(pred, truth, weight=weights)\n",
        "\n"
      ],
      "metadata": {
        "id": "TG_kW9-kkqKx"
      },
      "execution_count": null,
      "outputs": []
    },
    {
      "cell_type": "code",
      "source": [
        "device = torch.device(\"cuda\" if torch.cuda.is_available() else \"cpu\")\n",
        "transform = torchvision.transforms.Compose([\n",
        "    torchvision.transforms.v2.ColorJitter(brightness=.4, saturation=.4, hue=.5, contrast=.3),\n",
        "    torchvision.transforms.v2.Lambda(lambda image: F.dropout(image, p=0.05, inplace=True)),\n",
        "    torchvision.transforms.v2.RandomAffine(degrees=5, translate=(0.05, 0.4)),  # 5, (0, 0.4)\n",
        "    torchvision.transforms.v2.RandomPerspective(distortion_scale=0.3, p=0.9),  # p=1\n",
        "])\n",
        "\n",
        "idxs = np.arange(len(PianoDataset()))\n",
        "np.random.shuffle(idxs)\n",
        "num_last_images = 5\n",
        "train_split = 0.9\n",
        "train_set = PianoDataset(transform=transform, idxs=idxs[:int(len(idxs) * train_split)], k=num_last_images)\n",
        "val_set = PianoDataset(idxs=idxs[int(len(idxs) * train_split):], k=num_last_images)\n",
        "\n",
        "os.makedirs(\"models\", exist_ok=True)\n",
        "\n",
        "train_dl = DataLoader(train_set,\n",
        "                      batch_size=40,#utils.find_batch_size(model, dataset=train_set, max_val=16, is_train=True, shuffle=True, device=device),\n",
        "                      shuffle=True,\n",
        "                      num_workers=12,\n",
        "                      )\n",
        "val_dl = DataLoader(val_set,\n",
        "                    batch_size=128,#utils.find_batch_size(model, dataset=val_set, max_val=128, is_train=False, shuffle=False, device=device),\n",
        "                    num_workers=8,\n",
        "                    )\n",
        "\n",
        "print(f\"batch sizes: ({train_dl.batch_size}, {val_dl.batch_size}), train len: {len(train_dl)}, val len: {len(val_dl)}\")"
      ],
      "metadata": {
        "colab": {
          "base_uri": "https://localhost:8080/"
        },
        "id": "7HNfcs_jktWo",
        "outputId": "2e2516b2-68e9-411f-eede-5659ed7bb75c"
      },
      "execution_count": null,
      "outputs": [
        {
          "output_type": "stream",
          "name": "stdout",
          "text": [
            "batch sizes: (40, 128), train len: 1251, val len: 44\n"
          ]
        },
        {
          "output_type": "stream",
          "name": "stderr",
          "text": [
            "/gpfs/space/home/karlraud/.conda/envs/llava/lib/python3.10/site-packages/torch/utils/data/dataloader.py:558: UserWarning: This DataLoader will create 12 worker processes in total. Our suggested max number of worker in current system is 8, which is smaller than what this DataLoader is going to create. Please be aware that excessive worker creation might get DataLoader running slow or even freeze, lower the worker number to avoid potential slowness/freeze if necessary.\n",
            "  warnings.warn(_create_warning_msg(\n"
          ]
        }
      ]
    },
    {
      "cell_type": "code",
      "source": [
        "model = PianoModelSmallSelf(k=num_last_images)\n",
        "model.load_state_dict(torch.load(\"models/model_e14_0.9933\"), strict=True)\n",
        "model = model.to(device).train()\n",
        "\n",
        "optimizer = torch.optim.Adam(model.parameters(), lr=0.001)\n",
        "\n",
        "epochs = 200\n",
        "#scheduler = torch.optim.lr_scheduler.CosineAnnealingLR(optimizer, T_max=epochs * len(train_dl))\n",
        "scheduler = torch.optim.lr_scheduler.ConstantLR(optimizer)"
      ],
      "metadata": {
        "id": "8LL8LewhzeEj"
      },
      "execution_count": null,
      "outputs": []
    },
    {
      "cell_type": "code",
      "source": [
        "last_val_acc = 0\n",
        "for epoch in range(epochs):\n",
        "    print(f\"\\nepoch {epoch+1}/{epochs}\")\n",
        "    total_loss = 0\n",
        "    total_acc = 0\n",
        "    model.train()\n",
        "    iterator = tqdm(enumerate(train_dl), total=len(train_dl))\n",
        "    for i, batch in iterator:\n",
        "        if i == len(train_dl) - 1:  # skip last batch\n",
        "          continue\n",
        "        optimizer.zero_grad()\n",
        "\n",
        "        X, y = batch[0].to(device), batch[1].to(device)\n",
        "        outputs = model(X)\n",
        "        loss = loss_fn(outputs, y)\n",
        "\n",
        "        loss.backward()\n",
        "        optimizer.step()\n",
        "        scheduler.step()\n",
        "\n",
        "        total_acc += ((F.sigmoid(outputs) > 0.5) == y).to(torch.float32).mean().item()\n",
        "        total_loss += loss.item()\n",
        "        used, total = utils.get_vram_usage()\n",
        "        iterator.set_description(\n",
        "            f\"vram: {used:.2f}G/{total:.2f}G \"\n",
        "            f\"ram: {utils.get_ram_usage():.2f} \"\n",
        "            f\"lr: {optimizer.param_groups[0]['lr']:.8f} \"\n",
        "            f\"loss: {total_loss / (i+1):.5f} \"\n",
        "            f\"acc: {total_acc / (i+1):.5f} \"\n",
        "            f\"val acc: {last_val_acc:.4f} \"\n",
        "        )\n",
        "\n",
        "    del batch\n",
        "    del outputs\n",
        "    utils.empty_cache()\n",
        "\n",
        "    last_val_acc = val(model, val_dl, device, threshhold=0.5)\n",
        "    torch.save(model.state_dict(), f\"models/model_e{epoch+1}_{last_val_acc:.4f}\")"
      ],
      "metadata": {
        "colab": {
          "base_uri": "https://localhost:8080/"
        },
        "id": "zr9xUaaJk8rL",
        "outputId": "0ddaa94a-8774-4866-de5b-5b4dae04f566"
      },
      "execution_count": null,
      "outputs": [
        {
          "output_type": "stream",
          "name": "stdout",
          "text": [
            "\n",
            "epoch 1/200\n"
          ]
        },
        {
          "output_type": "stream",
          "name": "stderr",
          "text": [
            "vram: 53.02G/84.99G ram: 0.07 lr: 0.00100000 loss: 0.00569 acc: 0.98968 val acc: 0.0000 : 100%|█████████████████████████| 1251/1251 [21:23<00:00,  1.03s/it]\n"
          ]
        },
        {
          "output_type": "stream",
          "name": "stdout",
          "text": [
            "\n",
            "epoch 2/200\n"
          ]
        },
        {
          "output_type": "stream",
          "name": "stderr",
          "text": [
            "vram: 54.70G/84.99G ram: 0.07 lr: 0.00100000 loss: 0.00540 acc: 0.99016 val acc: 0.9918 : 100%|█████████████████████████| 1251/1251 [21:40<00:00,  1.04s/it]\n"
          ]
        },
        {
          "output_type": "stream",
          "name": "stdout",
          "text": [
            "\n",
            "epoch 3/200\n"
          ]
        },
        {
          "output_type": "stream",
          "name": "stderr",
          "text": [
            "vram: 54.67G/84.99G ram: 0.07 lr: 0.00100000 loss: 0.00524 acc: 0.99040 val acc: 0.9930 : 100%|█████████████████████████| 1251/1251 [21:53<00:00,  1.05s/it]\n"
          ]
        },
        {
          "output_type": "stream",
          "name": "stdout",
          "text": [
            "\n",
            "epoch 4/200\n"
          ]
        },
        {
          "output_type": "stream",
          "name": "stderr",
          "text": [
            "vram: 54.67G/84.99G ram: 0.06 lr: 0.00100000 loss: 0.00516 acc: 0.99052 val acc: 0.9930 : 100%|█████████████████████████| 1251/1251 [21:35<00:00,  1.04s/it]\n"
          ]
        },
        {
          "output_type": "stream",
          "name": "stdout",
          "text": [
            "\n",
            "epoch 5/200\n"
          ]
        },
        {
          "output_type": "stream",
          "name": "stderr",
          "text": [
            "vram: 54.67G/84.99G ram: 0.06 lr: 0.00100000 loss: 0.00502 acc: 0.99071 val acc: 0.9933 : 100%|█████████████████████████| 1251/1251 [21:39<00:00,  1.04s/it]\n"
          ]
        },
        {
          "output_type": "stream",
          "name": "stdout",
          "text": [
            "\n",
            "epoch 6/200\n"
          ]
        },
        {
          "output_type": "stream",
          "name": "stderr",
          "text": [
            "vram: 54.67G/84.99G ram: 0.07 lr: 0.00100000 loss: 0.00503 acc: 0.99080 val acc: 0.9936 : 100%|█████████████████████████| 1251/1251 [21:33<00:00,  1.03s/it]\n"
          ]
        },
        {
          "output_type": "stream",
          "name": "stdout",
          "text": [
            "\n",
            "epoch 7/200\n"
          ]
        },
        {
          "output_type": "stream",
          "name": "stderr",
          "text": [
            "vram: 54.67G/84.99G ram: 0.07 lr: 0.00100000 loss: 0.00494 acc: 0.99089 val acc: 0.9924 : 100%|█████████████████████████| 1251/1251 [21:38<00:00,  1.04s/it]\n"
          ]
        },
        {
          "output_type": "stream",
          "name": "stdout",
          "text": [
            "\n",
            "epoch 8/200\n"
          ]
        },
        {
          "output_type": "stream",
          "name": "stderr",
          "text": [
            "vram: 54.67G/84.99G ram: 0.07 lr: 0.00100000 loss: 0.00489 acc: 0.99097 val acc: 0.9924 : 100%|█████████████████████████| 1251/1251 [21:37<00:00,  1.04s/it]\n"
          ]
        },
        {
          "output_type": "stream",
          "name": "stdout",
          "text": [
            "\n",
            "epoch 9/200\n"
          ]
        },
        {
          "output_type": "stream",
          "name": "stderr",
          "text": [
            "vram: 54.67G/84.99G ram: 0.06 lr: 0.00100000 loss: 0.00480 acc: 0.99114 val acc: 0.9930 : 100%|█████████████████████████| 1251/1251 [21:33<00:00,  1.03s/it]\n"
          ]
        },
        {
          "output_type": "stream",
          "name": "stdout",
          "text": [
            "\n",
            "epoch 10/200\n"
          ]
        },
        {
          "output_type": "stream",
          "name": "stderr",
          "text": [
            "vram: 54.67G/84.99G ram: 0.07 lr: 0.00100000 loss: 0.00478 acc: 0.99111 val acc: 0.9929 : 100%|█████████████████████████| 1251/1251 [21:45<00:00,  1.04s/it]\n"
          ]
        },
        {
          "output_type": "stream",
          "name": "stdout",
          "text": [
            "\n",
            "epoch 11/200\n"
          ]
        },
        {
          "output_type": "stream",
          "name": "stderr",
          "text": [
            "vram: 54.67G/84.99G ram: 0.07 lr: 0.00100000 loss: 0.00474 acc: 0.99120 val acc: 0.9917 : 100%|█████████████████████████| 1251/1251 [21:36<00:00,  1.04s/it]\n"
          ]
        },
        {
          "output_type": "stream",
          "name": "stdout",
          "text": [
            "\n",
            "epoch 12/200\n"
          ]
        },
        {
          "output_type": "stream",
          "name": "stderr",
          "text": [
            "vram: 54.67G/84.99G ram: 0.07 lr: 0.00100000 loss: 0.00471 acc: 0.99129 val acc: 0.9910 : 100%|█████████████████████████| 1251/1251 [21:41<00:00,  1.04s/it]\n"
          ]
        },
        {
          "output_type": "stream",
          "name": "stdout",
          "text": [
            "\n",
            "epoch 13/200\n"
          ]
        },
        {
          "output_type": "stream",
          "name": "stderr",
          "text": [
            "vram: 54.67G/84.99G ram: 0.07 lr: 0.00100000 loss: 0.00464 acc: 0.99136 val acc: 0.9929 : 100%|█████████████████████████| 1251/1251 [21:39<00:00,  1.04s/it]\n"
          ]
        },
        {
          "output_type": "stream",
          "name": "stdout",
          "text": [
            "\n",
            "epoch 14/200\n"
          ]
        },
        {
          "output_type": "stream",
          "name": "stderr",
          "text": [
            "vram: 54.67G/84.99G ram: 0.07 lr: 0.00100000 loss: 0.00463 acc: 0.99141 val acc: 0.9915 : 100%|█████████████████████████| 1251/1251 [21:34<00:00,  1.03s/it]\n"
          ]
        },
        {
          "output_type": "stream",
          "name": "stdout",
          "text": [
            "\n",
            "epoch 15/200\n"
          ]
        },
        {
          "output_type": "stream",
          "name": "stderr",
          "text": [
            "vram: 54.67G/84.99G ram: 0.07 lr: 0.00100000 loss: 0.00460 acc: 0.99144 val acc: 0.9928 : 100%|█████████████████████████| 1251/1251 [21:40<00:00,  1.04s/it]\n"
          ]
        },
        {
          "output_type": "stream",
          "name": "stdout",
          "text": [
            "\n",
            "epoch 16/200\n"
          ]
        },
        {
          "output_type": "stream",
          "name": "stderr",
          "text": [
            "vram: 54.67G/84.99G ram: 0.07 lr: 0.00100000 loss: 0.00457 acc: 0.99147 val acc: 0.9924 : 100%|█████████████████████████| 1251/1251 [21:30<00:00,  1.03s/it]\n"
          ]
        },
        {
          "output_type": "stream",
          "name": "stdout",
          "text": [
            "\n",
            "epoch 17/200\n"
          ]
        },
        {
          "output_type": "stream",
          "name": "stderr",
          "text": [
            "vram: 54.67G/84.99G ram: 0.06 lr: 0.00100000 loss: 0.00451 acc: 0.99157 val acc: 0.9925 : 100%|█████████████████████████| 1251/1251 [21:28<00:00,  1.03s/it]\n"
          ]
        },
        {
          "output_type": "stream",
          "name": "stdout",
          "text": [
            "\n",
            "epoch 18/200\n"
          ]
        },
        {
          "output_type": "stream",
          "name": "stderr",
          "text": [
            "vram: 54.67G/84.99G ram: 0.07 lr: 0.00100000 loss: 0.00448 acc: 0.99160 val acc: 0.9929 : 100%|█████████████████████████| 1251/1251 [21:42<00:00,  1.04s/it]\n"
          ]
        },
        {
          "output_type": "stream",
          "name": "stdout",
          "text": [
            "\n",
            "epoch 19/200\n"
          ]
        },
        {
          "output_type": "stream",
          "name": "stderr",
          "text": [
            "vram: 54.67G/84.99G ram: 0.07 lr: 0.00100000 loss: 0.00451 acc: 0.99163 val acc: 0.9935 : 100%|█████████████████████████| 1251/1251 [21:35<00:00,  1.04s/it]\n"
          ]
        },
        {
          "output_type": "stream",
          "name": "stdout",
          "text": [
            "\n",
            "epoch 20/200\n"
          ]
        },
        {
          "output_type": "stream",
          "name": "stderr",
          "text": [
            "vram: 54.67G/84.99G ram: 0.07 lr: 0.00100000 loss: 0.00445 acc: 0.99163 val acc: 0.9937 : 100%|█████████████████████████| 1251/1251 [21:39<00:00,  1.04s/it]\n"
          ]
        },
        {
          "output_type": "stream",
          "name": "stdout",
          "text": [
            "\n",
            "epoch 21/200\n"
          ]
        },
        {
          "output_type": "stream",
          "name": "stderr",
          "text": [
            "vram: 54.67G/84.99G ram: 0.07 lr: 0.00100000 loss: 0.00438 acc: 0.99179 val acc: 0.9934 : 100%|█████████████████████████| 1251/1251 [21:45<00:00,  1.04s/it]\n"
          ]
        },
        {
          "output_type": "stream",
          "name": "stdout",
          "text": [
            "\n",
            "epoch 22/200\n"
          ]
        },
        {
          "output_type": "stream",
          "name": "stderr",
          "text": [
            "vram: 54.67G/84.99G ram: 0.07 lr: 0.00100000 loss: 0.00436 acc: 0.99181 val acc: 0.9940 : 100%|█████████████████████████| 1251/1251 [21:33<00:00,  1.03s/it]\n"
          ]
        },
        {
          "output_type": "stream",
          "name": "stdout",
          "text": [
            "\n",
            "epoch 23/200\n"
          ]
        },
        {
          "output_type": "stream",
          "name": "stderr",
          "text": [
            "vram: 54.67G/84.99G ram: 0.07 lr: 0.00100000 loss: 0.00435 acc: 0.99187 val acc: 0.9933 : 100%|█████████████████████████| 1251/1251 [21:37<00:00,  1.04s/it]\n"
          ]
        },
        {
          "output_type": "stream",
          "name": "stdout",
          "text": [
            "\n",
            "epoch 24/200\n"
          ]
        },
        {
          "output_type": "stream",
          "name": "stderr",
          "text": [
            "vram: 54.67G/84.99G ram: 0.07 lr: 0.00100000 loss: 0.00435 acc: 0.99187 val acc: 0.9930 : 100%|█████████████████████████| 1251/1251 [21:32<00:00,  1.03s/it]\n"
          ]
        },
        {
          "output_type": "stream",
          "name": "stdout",
          "text": [
            "\n",
            "epoch 25/200\n"
          ]
        },
        {
          "output_type": "stream",
          "name": "stderr",
          "text": [
            "vram: 54.67G/84.99G ram: 0.07 lr: 0.00100000 loss: 0.00429 acc: 0.99196 val acc: 0.9934 : 100%|█████████████████████████| 1251/1251 [21:32<00:00,  1.03s/it]\n"
          ]
        },
        {
          "output_type": "stream",
          "name": "stdout",
          "text": [
            "\n",
            "epoch 26/200\n"
          ]
        },
        {
          "output_type": "stream",
          "name": "stderr",
          "text": [
            "vram: 54.67G/84.99G ram: 0.07 lr: 0.00100000 loss: 0.00428 acc: 0.99198 val acc: 0.9935 : 100%|█████████████████████████| 1251/1251 [21:50<00:00,  1.05s/it]\n"
          ]
        },
        {
          "output_type": "stream",
          "name": "stdout",
          "text": [
            "\n",
            "epoch 27/200\n"
          ]
        },
        {
          "output_type": "stream",
          "name": "stderr",
          "text": [
            "vram: 54.67G/84.99G ram: 0.06 lr: 0.00100000 loss: 0.00429 acc: 0.99196 val acc: 0.9927 : 100%|█████████████████████████| 1251/1251 [21:34<00:00,  1.03s/it]\n"
          ]
        },
        {
          "output_type": "stream",
          "name": "stdout",
          "text": [
            "\n",
            "epoch 28/200\n"
          ]
        },
        {
          "output_type": "stream",
          "name": "stderr",
          "text": [
            "vram: 54.67G/84.99G ram: 0.07 lr: 0.00100000 loss: 0.00421 acc: 0.99207 val acc: 0.9934 : 100%|█████████████████████████| 1251/1251 [21:31<00:00,  1.03s/it]\n"
          ]
        },
        {
          "output_type": "stream",
          "name": "stdout",
          "text": [
            "\n",
            "epoch 29/200\n"
          ]
        },
        {
          "output_type": "stream",
          "name": "stderr",
          "text": [
            "vram: 54.67G/84.99G ram: 0.06 lr: 0.00100000 loss: 0.00422 acc: 0.99209 val acc: 0.9932 : 100%|█████████████████████████| 1251/1251 [21:34<00:00,  1.03s/it]\n"
          ]
        },
        {
          "output_type": "stream",
          "name": "stdout",
          "text": [
            "\n",
            "epoch 30/200\n"
          ]
        },
        {
          "output_type": "stream",
          "name": "stderr",
          "text": [
            "vram: 54.67G/84.99G ram: 0.07 lr: 0.00100000 loss: 0.00416 acc: 0.99213 val acc: 0.9938 : 100%|█████████████████████████| 1251/1251 [21:37<00:00,  1.04s/it]\n"
          ]
        },
        {
          "output_type": "stream",
          "name": "stdout",
          "text": [
            "\n",
            "epoch 31/200\n"
          ]
        },
        {
          "output_type": "stream",
          "name": "stderr",
          "text": [
            "vram: 54.67G/84.99G ram: 0.06 lr: 0.00100000 loss: 0.00411 acc: 0.99227 val acc: 0.9941 : 100%|█████████████████████████| 1251/1251 [21:55<00:00,  1.05s/it]\n"
          ]
        },
        {
          "output_type": "stream",
          "name": "stdout",
          "text": [
            "\n",
            "epoch 32/200\n"
          ]
        },
        {
          "output_type": "stream",
          "name": "stderr",
          "text": [
            "vram: 54.67G/84.99G ram: 0.07 lr: 0.00100000 loss: 0.00415 acc: 0.99214 val acc: 0.9942 : 100%|█████████████████████████| 1251/1251 [21:33<00:00,  1.03s/it]\n"
          ]
        },
        {
          "output_type": "stream",
          "name": "stdout",
          "text": [
            "\n",
            "epoch 33/200\n"
          ]
        },
        {
          "output_type": "stream",
          "name": "stderr",
          "text": [
            "vram: 54.67G/84.99G ram: 0.07 lr: 0.00100000 loss: 0.00409 acc: 0.99224 val acc: 0.9934 : 100%|█████████████████████████| 1251/1251 [21:35<00:00,  1.04s/it]\n"
          ]
        },
        {
          "output_type": "stream",
          "name": "stdout",
          "text": [
            "\n",
            "epoch 34/200\n"
          ]
        },
        {
          "output_type": "stream",
          "name": "stderr",
          "text": [
            "vram: 54.67G/84.99G ram: 0.06 lr: 0.00100000 loss: 0.00409 acc: 0.99230 val acc: 0.9942 : 100%|█████████████████████████| 1251/1251 [21:35<00:00,  1.04s/it]\n"
          ]
        },
        {
          "output_type": "stream",
          "name": "stdout",
          "text": [
            "\n",
            "epoch 35/200\n"
          ]
        },
        {
          "output_type": "stream",
          "name": "stderr",
          "text": [
            "vram: 54.67G/84.99G ram: 0.07 lr: 0.00100000 loss: 0.00404 acc: 0.99235 val acc: 0.9932 : 100%|█████████████████████████| 1251/1251 [21:40<00:00,  1.04s/it]\n"
          ]
        },
        {
          "output_type": "stream",
          "name": "stdout",
          "text": [
            "\n",
            "epoch 36/200\n"
          ]
        },
        {
          "output_type": "stream",
          "name": "stderr",
          "text": [
            "vram: 54.67G/84.99G ram: 0.06 lr: 0.00100000 loss: 0.00404 acc: 0.99236 val acc: 0.9922 : 100%|█████████████████████████| 1251/1251 [21:45<00:00,  1.04s/it]\n"
          ]
        },
        {
          "output_type": "stream",
          "name": "stdout",
          "text": [
            "\n",
            "epoch 37/200\n"
          ]
        },
        {
          "output_type": "stream",
          "name": "stderr",
          "text": [
            "vram: 54.67G/84.99G ram: 0.06 lr: 0.00100000 loss: 0.00407 acc: 0.99233 val acc: 0.9927 : 100%|█████████████████████████| 1251/1251 [21:40<00:00,  1.04s/it]\n"
          ]
        },
        {
          "output_type": "stream",
          "name": "stdout",
          "text": [
            "\n",
            "epoch 38/200\n"
          ]
        },
        {
          "output_type": "stream",
          "name": "stderr",
          "text": [
            "vram: 54.67G/84.99G ram: 0.06 lr: 0.00100000 loss: 0.00399 acc: 0.99244 val acc: 0.9939 : 100%|█████████████████████████| 1251/1251 [21:42<00:00,  1.04s/it]\n"
          ]
        },
        {
          "output_type": "stream",
          "name": "stdout",
          "text": [
            "\n",
            "epoch 39/200\n"
          ]
        },
        {
          "output_type": "stream",
          "name": "stderr",
          "text": [
            "vram: 54.67G/84.99G ram: 0.07 lr: 0.00100000 loss: 0.00398 acc: 0.99246 val acc: 0.9930 : 100%|█████████████████████████| 1251/1251 [21:39<00:00,  1.04s/it]\n"
          ]
        },
        {
          "output_type": "stream",
          "name": "stdout",
          "text": [
            "\n",
            "epoch 40/200\n"
          ]
        },
        {
          "output_type": "stream",
          "name": "stderr",
          "text": [
            "vram: 54.67G/84.99G ram: 0.06 lr: 0.00100000 loss: 0.00393 acc: 0.99255 val acc: 0.9934 : 100%|█████████████████████████| 1251/1251 [21:31<00:00,  1.03s/it]\n"
          ]
        },
        {
          "output_type": "stream",
          "name": "stdout",
          "text": [
            "\n",
            "epoch 41/200\n"
          ]
        },
        {
          "output_type": "stream",
          "name": "stderr",
          "text": [
            "vram: 54.67G/84.99G ram: 0.06 lr: 0.00100000 loss: 0.00396 acc: 0.99246 val acc: 0.9929 : 100%|█████████████████████████| 1251/1251 [21:33<00:00,  1.03s/it]\n"
          ]
        },
        {
          "output_type": "stream",
          "name": "stdout",
          "text": [
            "\n",
            "epoch 42/200\n"
          ]
        },
        {
          "output_type": "stream",
          "name": "stderr",
          "text": [
            "vram: 54.67G/84.99G ram: 0.07 lr: 0.00100000 loss: 0.00396 acc: 0.99258 val acc: 0.9943 : 100%|█████████████████████████| 1251/1251 [21:45<00:00,  1.04s/it]\n"
          ]
        },
        {
          "output_type": "stream",
          "name": "stdout",
          "text": [
            "\n",
            "epoch 43/200\n"
          ]
        },
        {
          "output_type": "stream",
          "name": "stderr",
          "text": [
            "vram: 54.67G/84.99G ram: 0.07 lr: 0.00100000 loss: 0.00390 acc: 0.99260 val acc: 0.9920 : 100%|█████████████████████████| 1251/1251 [21:34<00:00,  1.03s/it]\n"
          ]
        },
        {
          "output_type": "stream",
          "name": "stdout",
          "text": [
            "\n",
            "epoch 44/200\n"
          ]
        },
        {
          "output_type": "stream",
          "name": "stderr",
          "text": [
            "vram: 54.67G/84.99G ram: 0.06 lr: 0.00100000 loss: 0.00389 acc: 0.99263 val acc: 0.9934 : 100%|█████████████████████████| 1251/1251 [21:39<00:00,  1.04s/it]\n"
          ]
        },
        {
          "output_type": "stream",
          "name": "stdout",
          "text": [
            "\n",
            "epoch 45/200\n"
          ]
        },
        {
          "output_type": "stream",
          "name": "stderr",
          "text": [
            "vram: 54.67G/84.99G ram: 0.07 lr: 0.00100000 loss: 0.00388 acc: 0.99263 val acc: 0.9945 : 100%|█████████████████████████| 1251/1251 [21:50<00:00,  1.05s/it]\n"
          ]
        },
        {
          "output_type": "stream",
          "name": "stdout",
          "text": [
            "\n",
            "epoch 46/200\n"
          ]
        },
        {
          "output_type": "stream",
          "name": "stderr",
          "text": [
            "vram: 54.67G/84.99G ram: 0.07 lr: 0.00100000 loss: 0.00385 acc: 0.99266 val acc: 0.9948 : 100%|█████████████████████████| 1251/1251 [21:39<00:00,  1.04s/it]\n"
          ]
        },
        {
          "output_type": "stream",
          "name": "stdout",
          "text": [
            "\n",
            "epoch 47/200\n"
          ]
        },
        {
          "output_type": "stream",
          "name": "stderr",
          "text": [
            "vram: 54.67G/84.99G ram: 0.07 lr: 0.00100000 loss: 0.00381 acc: 0.99276 val acc: 0.9936 : 100%|█████████████████████████| 1251/1251 [21:35<00:00,  1.04s/it]\n"
          ]
        },
        {
          "output_type": "stream",
          "name": "stdout",
          "text": [
            "\n",
            "epoch 48/200\n"
          ]
        },
        {
          "output_type": "stream",
          "name": "stderr",
          "text": [
            "vram: 54.67G/84.99G ram: 0.06 lr: 0.00100000 loss: 0.00380 acc: 0.99274 val acc: 0.9935 : 100%|█████████████████████████| 1251/1251 [21:42<00:00,  1.04s/it]\n"
          ]
        },
        {
          "output_type": "stream",
          "name": "stdout",
          "text": [
            "\n",
            "epoch 49/200\n"
          ]
        },
        {
          "output_type": "stream",
          "name": "stderr",
          "text": [
            "vram: 54.67G/84.99G ram: 0.07 lr: 0.00100000 loss: 0.00382 acc: 0.99275 val acc: 0.9942 : 100%|█████████████████████████| 1251/1251 [21:52<00:00,  1.05s/it]\n"
          ]
        },
        {
          "output_type": "stream",
          "name": "stdout",
          "text": [
            "\n",
            "epoch 50/200\n"
          ]
        },
        {
          "output_type": "stream",
          "name": "stderr",
          "text": [
            "vram: 54.67G/84.99G ram: 0.07 lr: 0.00100000 loss: 0.00380 acc: 0.99274 val acc: 0.9948 : 100%|█████████████████████████| 1251/1251 [21:34<00:00,  1.03s/it]\n"
          ]
        },
        {
          "output_type": "stream",
          "name": "stdout",
          "text": [
            "\n",
            "epoch 51/200\n"
          ]
        },
        {
          "output_type": "stream",
          "name": "stderr",
          "text": [
            "vram: 54.67G/84.99G ram: 0.07 lr: 0.00100000 loss: 0.00379 acc: 0.99282 val acc: 0.9931 : 100%|█████████████████████████| 1251/1251 [21:36<00:00,  1.04s/it]\n"
          ]
        },
        {
          "output_type": "stream",
          "name": "stdout",
          "text": [
            "\n",
            "epoch 52/200\n"
          ]
        },
        {
          "output_type": "stream",
          "name": "stderr",
          "text": [
            "vram: 54.67G/84.99G ram: 0.07 lr: 0.00100000 loss: 0.00376 acc: 0.99281 val acc: 0.9937 : 100%|█████████████████████████| 1251/1251 [21:38<00:00,  1.04s/it]\n"
          ]
        },
        {
          "output_type": "stream",
          "name": "stdout",
          "text": [
            "\n",
            "epoch 53/200\n"
          ]
        },
        {
          "output_type": "stream",
          "name": "stderr",
          "text": [
            "vram: 54.67G/84.99G ram: 0.07 lr: 0.00100000 loss: 0.00375 acc: 0.99283 val acc: 0.9932 : 100%|█████████████████████████| 1251/1251 [21:25<00:00,  1.03s/it]\n"
          ]
        },
        {
          "output_type": "stream",
          "name": "stdout",
          "text": [
            "\n",
            "epoch 54/200\n"
          ]
        },
        {
          "output_type": "stream",
          "name": "stderr",
          "text": [
            "vram: 54.67G/84.99G ram: 0.07 lr: 0.00100000 loss: 0.00371 acc: 0.99289 val acc: 0.9946 : 100%|█████████████████████████| 1251/1251 [21:31<00:00,  1.03s/it]\n"
          ]
        },
        {
          "output_type": "stream",
          "name": "stdout",
          "text": [
            "\n",
            "epoch 55/200\n"
          ]
        },
        {
          "output_type": "stream",
          "name": "stderr",
          "text": [
            "vram: 54.67G/84.99G ram: 0.07 lr: 0.00100000 loss: 0.00370 acc: 0.99288 val acc: 0.9932 : 100%|█████████████████████████| 1251/1251 [21:41<00:00,  1.04s/it]\n"
          ]
        },
        {
          "output_type": "stream",
          "name": "stdout",
          "text": [
            "\n",
            "epoch 56/200\n"
          ]
        },
        {
          "output_type": "stream",
          "name": "stderr",
          "text": [
            "vram: 54.67G/84.99G ram: 0.07 lr: 0.00100000 loss: 0.00371 acc: 0.99289 val acc: 0.9934 : 100%|█████████████████████████| 1251/1251 [21:26<00:00,  1.03s/it]\n"
          ]
        },
        {
          "output_type": "stream",
          "name": "stdout",
          "text": [
            "\n",
            "epoch 57/200\n"
          ]
        },
        {
          "output_type": "stream",
          "name": "stderr",
          "text": [
            "vram: 54.67G/84.99G ram: 0.06 lr: 0.00100000 loss: 0.00366 acc: 0.99300 val acc: 0.9946 : 100%|█████████████████████████| 1251/1251 [21:24<00:00,  1.03s/it]\n"
          ]
        },
        {
          "output_type": "stream",
          "name": "stdout",
          "text": [
            "\n",
            "epoch 58/200\n"
          ]
        },
        {
          "output_type": "stream",
          "name": "stderr",
          "text": [
            "vram: 54.67G/84.99G ram: 0.07 lr: 0.00100000 loss: 0.00369 acc: 0.99298 val acc: 0.9937 : 100%|█████████████████████████| 1251/1251 [21:19<00:00,  1.02s/it]\n"
          ]
        },
        {
          "output_type": "stream",
          "name": "stdout",
          "text": [
            "\n",
            "epoch 59/200\n"
          ]
        },
        {
          "output_type": "stream",
          "name": "stderr",
          "text": [
            "vram: 54.67G/84.99G ram: 0.07 lr: 0.00100000 loss: 0.00367 acc: 0.99300 val acc: 0.9940 : 100%|█████████████████████████| 1251/1251 [21:24<00:00,  1.03s/it]\n"
          ]
        },
        {
          "output_type": "stream",
          "name": "stdout",
          "text": [
            "\n",
            "epoch 60/200\n"
          ]
        },
        {
          "output_type": "stream",
          "name": "stderr",
          "text": [
            "vram: 54.67G/84.99G ram: 0.07 lr: 0.00100000 loss: 0.00362 acc: 0.99309 val acc: 0.9943 : 100%|█████████████████████████| 1251/1251 [21:47<00:00,  1.05s/it]\n"
          ]
        },
        {
          "output_type": "stream",
          "name": "stdout",
          "text": [
            "\n",
            "epoch 61/200\n"
          ]
        },
        {
          "output_type": "stream",
          "name": "stderr",
          "text": [
            "vram: 54.67G/84.99G ram: 0.07 lr: 0.00100000 loss: 0.00364 acc: 0.99301 val acc: 0.9947 : 100%|█████████████████████████| 1251/1251 [21:30<00:00,  1.03s/it]\n"
          ]
        },
        {
          "output_type": "stream",
          "name": "stdout",
          "text": [
            "\n",
            "epoch 62/200\n"
          ]
        },
        {
          "output_type": "stream",
          "name": "stderr",
          "text": [
            "vram: 54.67G/84.99G ram: 0.07 lr: 0.00100000 loss: 0.00364 acc: 0.99302 val acc: 0.9941 : 100%|█████████████████████████| 1251/1251 [21:27<00:00,  1.03s/it]\n"
          ]
        },
        {
          "output_type": "stream",
          "name": "stdout",
          "text": [
            "\n",
            "epoch 63/200\n"
          ]
        },
        {
          "output_type": "stream",
          "name": "stderr",
          "text": [
            "vram: 54.67G/84.99G ram: 0.07 lr: 0.00100000 loss: 0.00359 acc: 0.99313 val acc: 0.9939 : 100%|█████████████████████████| 1251/1251 [21:25<00:00,  1.03s/it]\n"
          ]
        },
        {
          "output_type": "stream",
          "name": "stdout",
          "text": [
            "\n",
            "epoch 64/200\n"
          ]
        },
        {
          "output_type": "stream",
          "name": "stderr",
          "text": [
            "vram: 54.67G/84.99G ram: 0.07 lr: 0.00100000 loss: 0.00358 acc: 0.99315 val acc: 0.9935 : 100%|█████████████████████████| 1251/1251 [21:19<00:00,  1.02s/it]\n"
          ]
        },
        {
          "output_type": "stream",
          "name": "stdout",
          "text": [
            "\n",
            "epoch 65/200\n"
          ]
        },
        {
          "output_type": "stream",
          "name": "stderr",
          "text": [
            "vram: 54.67G/84.99G ram: 0.07 lr: 0.00100000 loss: 0.00352 acc: 0.99328 val acc: 0.9939 : 100%|█████████████████████████| 1251/1251 [21:41<00:00,  1.04s/it]\n"
          ]
        },
        {
          "output_type": "stream",
          "name": "stdout",
          "text": [
            "\n",
            "epoch 66/200\n"
          ]
        },
        {
          "output_type": "stream",
          "name": "stderr",
          "text": [
            "vram: 54.67G/84.99G ram: 0.07 lr: 0.00100000 loss: 0.00355 acc: 0.99320 val acc: 0.9944 : 100%|█████████████████████████| 1251/1251 [21:25<00:00,  1.03s/it]\n"
          ]
        },
        {
          "output_type": "stream",
          "name": "stdout",
          "text": [
            "\n",
            "epoch 67/200\n"
          ]
        },
        {
          "output_type": "stream",
          "name": "stderr",
          "text": [
            "vram: 54.67G/84.99G ram: 0.07 lr: 0.00100000 loss: 0.00354 acc: 0.99322 val acc: 0.9932 : 100%|█████████████████████████| 1251/1251 [21:31<00:00,  1.03s/it]\n"
          ]
        },
        {
          "output_type": "stream",
          "name": "stdout",
          "text": [
            "\n",
            "epoch 68/200\n"
          ]
        },
        {
          "output_type": "stream",
          "name": "stderr",
          "text": [
            "vram: 54.67G/84.99G ram: 0.06 lr: 0.00100000 loss: 0.00357 acc: 0.99314 val acc: 0.9941 : 100%|█████████████████████████| 1251/1251 [21:33<00:00,  1.03s/it]\n"
          ]
        },
        {
          "output_type": "stream",
          "name": "stdout",
          "text": [
            "\n",
            "epoch 69/200\n"
          ]
        },
        {
          "output_type": "stream",
          "name": "stderr",
          "text": [
            "vram: 54.67G/84.99G ram: 0.09 lr: 0.00100000 loss: 0.00352 acc: 0.99326 val acc: 0.9947 : 100%|█████████████████████████| 1251/1251 [24:39<00:00,  1.18s/it]\n"
          ]
        },
        {
          "output_type": "stream",
          "name": "stdout",
          "text": [
            "\n",
            "epoch 70/200\n"
          ]
        },
        {
          "output_type": "stream",
          "name": "stderr",
          "text": [
            "vram: 54.67G/84.99G ram: 0.07 lr: 0.00100000 loss: 0.00349 acc: 0.99327 val acc: 0.9942 : 100%|█████████████████████████| 1251/1251 [24:58<00:00,  1.20s/it]\n"
          ]
        },
        {
          "output_type": "stream",
          "name": "stdout",
          "text": [
            "\n",
            "epoch 71/200\n"
          ]
        },
        {
          "output_type": "stream",
          "name": "stderr",
          "text": [
            "vram: 54.67G/84.99G ram: 0.10 lr: 0.00100000 loss: 0.00351 acc: 0.99327 val acc: 0.9945 :  67%|█████████████████▎        | 832/1251 [18:28<09:30,  1.36s/it]"
          ]
        }
      ]
    },
    {
      "cell_type": "code",
      "source": [
        "model = PianoModelSmallSelf(k=num_last_images)\n",
        "model.load_state_dict(torch.load(\"models/model_e1_0.9953\"), strict=False)\n",
        "model = model.to(device).eval()\n",
        "\n",
        "\n",
        "threshholds = np.arange(0, 1.01, 0.01)\n",
        "accs = dict()\n",
        "with torch.no_grad():\n",
        "    for i, batch in tqdm(enumerate(val_dl), total=len(val_dl)):\n",
        "        outputs = F.sigmoid(model(batch[0].to(device)))\n",
        "        l = batch[1].to(device)\n",
        "        for thresh in threshholds:\n",
        "          o = outputs > thresh\n",
        "          accs[thresh] = accs.get(thresh, []) + [(o == l).to(torch.float32).mean().item()]\n",
        "del batch\n",
        "utils.empty_cache()\n",
        "for x, v in accs.items():\n",
        "  accs[x] = np.array(v).mean()\n",
        "for x, v in accs.items():\n",
        "  print(f\"{x:.2f}: {v:.5f}\" + (\" best\" if v == max(accs.values()) else \"\"))"
      ],
      "metadata": {
        "colab": {
          "base_uri": "https://localhost:8080/"
        },
        "id": "JOvw5Jm4k93W",
        "outputId": "7e7a62ea-bb07-4a9c-9af8-3288ddd77917"
      },
      "execution_count": null,
      "outputs": [
        {
          "output_type": "stream",
          "name": "stderr",
          "text": [
            "100%|███████████████████████████████████████████████████████████████████████████████████████████████████████████████████████| 44/44 [00:37<00:00,  1.18it/s]\n"
          ]
        },
        {
          "output_type": "stream",
          "name": "stdout",
          "text": [
            "0.00: 0.02240\n",
            "0.01: 0.97655\n",
            "0.02: 0.98506\n",
            "0.03: 0.98852\n",
            "0.04: 0.99029\n",
            "0.05: 0.99139\n",
            "0.06: 0.99223\n",
            "0.07: 0.99284\n",
            "0.08: 0.99329\n",
            "0.09: 0.99360\n",
            "0.10: 0.99386\n",
            "0.11: 0.99406\n",
            "0.12: 0.99426\n",
            "0.13: 0.99444\n",
            "0.14: 0.99456\n",
            "0.15: 0.99469\n",
            "0.16: 0.99479\n",
            "0.17: 0.99485\n",
            "0.18: 0.99489\n",
            "0.19: 0.99496\n",
            "0.20: 0.99500\n",
            "0.21: 0.99508\n",
            "0.22: 0.99512\n",
            "0.23: 0.99514\n",
            "0.24: 0.99518\n",
            "0.25: 0.99523\n",
            "0.26: 0.99528\n",
            "0.27: 0.99529\n",
            "0.28: 0.99531\n",
            "0.29: 0.99534\n",
            "0.30: 0.99534\n",
            "0.31: 0.99538\n",
            "0.32: 0.99541\n",
            "0.33: 0.99543\n",
            "0.34: 0.99544\n",
            "0.35: 0.99546\n",
            "0.36: 0.99546\n",
            "0.37: 0.99546\n",
            "0.38: 0.99546\n",
            "0.39: 0.99546\n",
            "0.40: 0.99545\n",
            "0.41: 0.99545\n",
            "0.42: 0.99546 best\n",
            "0.43: 0.99545\n",
            "0.44: 0.99543\n",
            "0.45: 0.99540\n",
            "0.46: 0.99541\n",
            "0.47: 0.99540\n",
            "0.48: 0.99538\n",
            "0.49: 0.99534\n",
            "0.50: 0.99532\n",
            "0.51: 0.99528\n",
            "0.52: 0.99529\n",
            "0.53: 0.99526\n",
            "0.54: 0.99523\n",
            "0.55: 0.99519\n",
            "0.56: 0.99515\n",
            "0.57: 0.99512\n",
            "0.58: 0.99509\n",
            "0.59: 0.99506\n",
            "0.60: 0.99504\n",
            "0.61: 0.99501\n",
            "0.62: 0.99496\n",
            "0.63: 0.99492\n",
            "0.64: 0.99487\n",
            "0.65: 0.99483\n",
            "0.66: 0.99478\n",
            "0.67: 0.99475\n",
            "0.68: 0.99468\n",
            "0.69: 0.99464\n",
            "0.70: 0.99457\n",
            "0.71: 0.99453\n",
            "0.72: 0.99444\n",
            "0.73: 0.99439\n",
            "0.74: 0.99433\n",
            "0.75: 0.99425\n",
            "0.76: 0.99420\n",
            "0.77: 0.99410\n",
            "0.78: 0.99402\n",
            "0.79: 0.99396\n",
            "0.80: 0.99385\n",
            "0.81: 0.99377\n",
            "0.82: 0.99364\n",
            "0.83: 0.99351\n",
            "0.84: 0.99336\n",
            "0.85: 0.99326\n",
            "0.86: 0.99307\n",
            "0.87: 0.99289\n",
            "0.88: 0.99273\n",
            "0.89: 0.99251\n",
            "0.90: 0.99228\n",
            "0.91: 0.99200\n",
            "0.92: 0.99167\n",
            "0.93: 0.99132\n",
            "0.94: 0.99085\n",
            "0.95: 0.99032\n",
            "0.96: 0.98978\n",
            "0.97: 0.98895\n",
            "0.98: 0.98779\n",
            "0.99: 0.98568\n",
            "1.00: 0.97760\n"
          ]
        }
      ]
    },
    {
      "cell_type": "code",
      "source": [
        "def f_score(model, val_loader, device, threshhold=0.9):\n",
        "    model.eval()\n",
        "    preds = []\n",
        "    gts = []\n",
        "    with torch.no_grad():\n",
        "        for i, batch in tqdm(enumerate(val_loader), total=len(val_loader)):\n",
        "            outputs = F.sigmoid(model(batch[0].to(device))) > threshhold\n",
        "            preds += list(outputs.cpu().numpy())\n",
        "            gts += list(batch[1].cpu().numpy())\n",
        "    from sklearn.metrics import f1_score\n",
        "    del batch\n",
        "    utils.empty_cache()\n",
        "    return f1_score(gts, preds, average=None, zero_division=1.0)\n",
        "\n",
        "\n",
        "device = torch.device(\"cuda\" if torch.cuda.is_available() else \"cpu\")\n",
        "all_set = PianoDataset(k=5)\n",
        "all_dl = DataLoader(all_set,\n",
        "                    batch_size=32,\n",
        "                    num_workers=12,\n",
        "                    )\n",
        "model = PianoModelSmallSelf(k=5)\n",
        "model.load_state_dict(torch.load(\"best_model\"), strict=True)\n",
        "model = model.to(device).eval()\n",
        "f_scores_per_class = f_score(model, all_dl, device)"
      ],
      "metadata": {
        "id": "d-k9xPAKZwWh"
      },
      "execution_count": null,
      "outputs": []
    },
    {
      "cell_type": "code",
      "source": [
        "from matplotlib import pyplot as plt\n",
        "plt.bar(list(range(88)), f_scores_per_class)\n",
        "plt.title(\"F1-score\")\n",
        "plt.xlabel(\"Key on a piano\")\n",
        "plt.ylabel(\"F1-score\")\n",
        "plt.show()"
      ],
      "metadata": {
        "colab": {
          "base_uri": "https://localhost:8080/",
          "height": 472
        },
        "id": "T-p-fUwQZ0Og",
        "outputId": "ef52f55d-3d24-4c55-da14-a0a7d5602534"
      },
      "execution_count": null,
      "outputs": [
        {
          "output_type": "display_data",
          "data": {
            "text/plain": [
              "<Figure size 640x480 with 1 Axes>"
            ],
            "image/png": "[encoded data removed]"
          },
          "metadata": {}
        }
      ]
    }
  ]
}